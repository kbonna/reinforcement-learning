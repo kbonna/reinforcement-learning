{
 "cells": [
  {
   "cell_type": "code",
   "execution_count": 191,
   "metadata": {},
   "outputs": [],
   "source": [
    "class game:\n",
    "    #=== constructor\n",
    "    def __init__(self):\n",
    "        import numpy as np\n",
    "        self.board = np.zeros([9], dtype='int')\n",
    "    #=== looking for pattern (with transformations)\n",
    "    def match_pattern(self, pattern):\n",
    "        #-- function looking for pattern within vector\n",
    "        def find_pattern(target, pattern):\n",
    "            match = True\n",
    "            for index in range(pattern.shape[0]):\n",
    "                if pattern[index] != 0:\n",
    "                    if pattern[index] != target[index]:\n",
    "                        match = False\n",
    "                        break\n",
    "            return match\n",
    "        #-- for all possible transformations\n",
    "        for flipud in [True,False]:\n",
    "            for fliplr in [True,False]:\n",
    "                for transpose in [True,False]:\n",
    "                    temp = self.board.reshape([3,3]) # reshape to 2-D array\n",
    "                    #-- apply tranformations\n",
    "                    if flipud: temp = np.flipud(temp)\n",
    "                    if fliplr: temp = np.fliplr(temp)\n",
    "                    if transpose: temp = temp.T\n",
    "                    temp = temp.reshape(9)          # reshape back to vector\n",
    "                    if find_pattern(temp, pattern): return True\n",
    "        return False\n",
    "    #=== doing a move\n",
    "    def move(self, field):\n",
    "        if self.board[field] == 0 :\n",
    "            if np.count_nonzero(self.board) % 2 == 0:\n",
    "                self.board[field] = 1\n",
    "            else:\n",
    "                self.board[field] = 2\n",
    "        else:\n",
    "            raise Exception('Forbidden move!')\n",
    "    #=== looking for win\n",
    "    def ifWin(self):\n",
    "        pass\n",
    "    #=== displaying actual state of the game        \n",
    "    def show_board(self):\n",
    "        inrow = 1\n",
    "        print('–––––')\n",
    "        for field in self.board :\n",
    "            #=== convert ints to characters\n",
    "            if   field == 0: sign = '•'\n",
    "            elif field == 1: sign = 'X'\n",
    "            else:            sign = 'O'\n",
    "            #=== display board\n",
    "            if inrow == 3:\n",
    "                print(sign)\n",
    "                inrow = 1\n",
    "            else:\n",
    "                print(sign, end=\" \")\n",
    "                inrow += 1\n",
    "        print('–––––')"
   ]
  },
  {
   "cell_type": "code",
   "execution_count": 192,
   "metadata": {},
   "outputs": [
    {
     "name": "stdout",
     "output_type": "stream",
     "text": [
      "–––––\n",
      "X O •\n",
      "• • •\n",
      "• • •\n",
      "–––––\n"
     ]
    },
    {
     "data": {
      "text/plain": [
       "True"
      ]
     },
     "execution_count": 192,
     "metadata": {},
     "output_type": "execute_result"
    }
   ],
   "source": [
    "#=== run test\n",
    "g1 = game()\n",
    "g1.move(0)\n",
    "g1.move(1)\n",
    "#-- test\n",
    "g1.show_board()\n",
    "g1.match_pattern(np.array([0,0,0,0,0,0,0,2,1]))"
   ]
  }
 ],
 "metadata": {
  "kernelspec": {
   "display_name": "Python 3",
   "language": "python",
   "name": "python3"
  },
  "language_info": {
   "codemirror_mode": {
    "name": "ipython",
    "version": 3
   },
   "file_extension": ".py",
   "mimetype": "text/x-python",
   "name": "python",
   "nbconvert_exporter": "python",
   "pygments_lexer": "ipython3",
   "version": "3.6.5"
  }
 },
 "nbformat": 4,
 "nbformat_minor": 2
}
