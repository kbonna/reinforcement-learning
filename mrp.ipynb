{
 "cells": [
  {
   "cell_type": "code",
   "execution_count": 1,
   "metadata": {},
   "outputs": [],
   "source": [
    "import numpy as np"
   ]
  },
  {
   "cell_type": "code",
   "execution_count": 51,
   "metadata": {},
   "outputs": [],
   "source": [
    "# number of states\n",
    "N = 8 \n",
    "# transition probabilities\n",
    "P = np.array([[0.1, 0.1, 0,   0,   0,   0.8,  0,   0   ],\n",
    "              [0,   0,   0,   0.1, 0,   0.9,  0,   0   ],\n",
    "              [0,   0,   0,   0,   0,   0.7,  0.3, 0   ],\n",
    "              [0,   0,   0,   0,   0,   0.5,  0.5, 0   ],\n",
    "              [0.3, 0.2, 0.5, 0,   0,   0,    0,   0   ],\n",
    "              [0,   0,   0,   0,   0,   0,    0,   1   ],\n",
    "              [0.1, 0,   0,   0,   0,   0,    0,   0.9 ],\n",
    "              [0,   0,   0,   0,   0,   0,    0,   0   ]])\n",
    "# immediate rewards when leaving a state\n",
    "R = np.array([-1, -2, 2, 20, 2, -5, 4, 0])\n",
    "# discount factor \n",
    "gamma = 0.7"
   ]
  },
  {
   "cell_type": "code",
   "execution_count": 172,
   "metadata": {},
   "outputs": [
    {
     "data": {
      "text/plain": [
       "array([[-4.29122745, -3.74094798,  0.3022585 , 19.52941905,  0.6577563 ,\n",
       "        -5.        ,  3.7203115 ,  0.        ]])"
      ]
     },
     "execution_count": 172,
     "metadata": {},
     "output_type": "execute_result"
    }
   ],
   "source": [
    "#--- return calculation by simulation\n",
    "Nsim = 1000\n",
    "value = np.zeros((1,N))\n",
    "for init in range(N) :\n",
    "    for sim in range(Nsim) :\n",
    "        #--- simulate state transitions ---\n",
    "        state = init + 1 \n",
    "        history = [ state ]\n",
    "        while state != 8 :\n",
    "            trans = P[state-1]                                         # possible transitions\n",
    "            state = np.where(np.random.multinomial(1,trans))[0][0] + 1 # make transition\n",
    "            history.append(state)\n",
    "        #--- calculate reward -------------\n",
    "        history = np.asarray(history)\n",
    "        returnh = R[history-1] * ( np.ones((1,len(history))) * gamma ** np.arange(len(history)) )\n",
    "        value[0,init] = value[0,init] + np.sum(returnh)\n",
    "value = value / Nsim\n",
    "value"
   ]
  },
  {
   "cell_type": "code",
   "execution_count": 170,
   "metadata": {},
   "outputs": [
    {
     "data": {
      "text/plain": [
       "array([-4.37068785, -3.78199573,  0.32575089, 19.54291815,  0.66668896,\n",
       "       -5.        ,  3.69405185,  0.        ])"
      ]
     },
     "execution_count": 170,
     "metadata": {},
     "output_type": "execute_result"
    }
   ],
   "source": [
    "#--- return analytic calculation\n",
    "np.matmul( np.linalg.inv( np.eye(N) - gamma * P ), R )"
   ]
  }
 ],
 "metadata": {
  "kernelspec": {
   "display_name": "Python 3",
   "language": "python",
   "name": "python3"
  },
  "language_info": {
   "codemirror_mode": {
    "name": "ipython",
    "version": 3
   },
   "file_extension": ".py",
   "mimetype": "text/x-python",
   "name": "python",
   "nbconvert_exporter": "python",
   "pygments_lexer": "ipython3",
   "version": "3.6.5"
  }
 },
 "nbformat": 4,
 "nbformat_minor": 2
}
