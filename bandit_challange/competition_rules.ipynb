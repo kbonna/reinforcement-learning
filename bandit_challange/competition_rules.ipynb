{
 "cells": [
  {
   "cell_type": "markdown",
   "metadata": {},
   "source": [
    "## Multi Armed Bandit Coding Competition\n",
    "\n",
    "### Rules:\n",
    "1. Write an algorithm that interacts wiith mutli armed bandit to gather as many points as possible.\n",
    "2. Your algorithm can only access `n_arms` and `n_trials` properties and use `pull` method to gather points.\n",
    "3. Other than that, there are no further rules – you can build any algorithm you want – e.g. based on probability, reinforcement learning, heuristics, etc.\n",
    "\n",
    "### Setup:\n",
    "1. On each new game, there will be fixed number of arms (randomly selected between 2 and 10) and trials (randomly selected between 10 and 500)\n",
    "2. Each arm will be associated with fixed (for the duration of single game) reward distribution.\n",
    "3. Reward distribution is always **normal (Gaussian)** with mean between randomly selected from interval [0, 100] and standard deviation randomly selected from interval [0, 100].\n",
    "\n",
    "### Competition\n",
    "1. During competition, each algorithm will play 1 million games (random seed will be fixed for all competitors).\n",
    "2. Algorithm that get the most points will win the competition."
   ]
  },
  {
   "cell_type": "code",
   "execution_count": 1,
   "metadata": {},
   "outputs": [],
   "source": [
    "import numpy as np\n",
    "import random\n",
    "\n",
    "class MultiArmedBandit(object):\n",
    "    '''Multi armed bandint game for RL challange.\n",
    "    \n",
    "    Instance of this class represents single RL setup that agent needs to \n",
    "    face. \n",
    "    \n",
    "    Properties:\n",
    "        n_arms (int):\n",
    "            Number of arms (between 2 and 10).\n",
    "        n_trials (int):\n",
    "            Number of available arm pulls (between 10 and 500).\n",
    "        account (float):\n",
    "            Sum of all gathered and lost points. \n",
    "            \n",
    "    Methods:\n",
    "        pull(arm):\n",
    "            Return a reward for chosen arm. Reward is cached in the instance\n",
    "            and accesible as account property. Note that after performing \n",
    "            n_trials pulls, bandit gets exhausted and pull raises StopIteration\n",
    "            exception.\n",
    "            \n",
    "    How points are distributed? Each arm is instantiated with random mean and \n",
    "    standard deviation (both drawn from uniform distribution [0, 100]). Pulled \n",
    "    arm draws random reward from normal (Gaussian distribution) with preset \n",
    "    (but unknow to user) mean and standard deviation. \n",
    "    \n",
    "    Goal of the challange is to write algorithm that effectively chooses most\n",
    "    beneficial arms. Best algorithm will be the one with highest total money \n",
    "    collected for 1_000_000 experiments.\n",
    "    '''\n",
    "    \n",
    "    def __init__(self):\n",
    "        self._n_arms = random.randint(2, 10)\n",
    "        self._n_trials = random.randint(10, 500)\n",
    "        \n",
    "        self._payoff_mean = np.random.random((self._n_arms, )) * 100 \n",
    "        self._payoff_std = np.random.random((self._n_arms, )) * 100\n",
    "        \n",
    "        self._account = 0\n",
    "        self._current_trial = 0\n",
    "    \n",
    "    @property \n",
    "    def n_arms(self):\n",
    "        return self._n_arms\n",
    "    \n",
    "    @property \n",
    "    def n_trials(self):\n",
    "        return self._n_trials\n",
    "    \n",
    "    @property\n",
    "    def account(self):\n",
    "        return self._account \n",
    "    \n",
    "    def pull(self, arm):\n",
    "        if self._current_trial >= self._n_trials:\n",
    "            raise StopIteration('this bandit is already exhausted')\n",
    "        else:\n",
    "            reward = np.random.normal(self._payoff_mean[arm], self._payoff_std[arm])\n",
    "            self._account += reward\n",
    "            self._current_trial += 1\n",
    "            return reward"
   ]
  },
  {
   "cell_type": "code",
   "execution_count": 2,
   "metadata": {},
   "outputs": [
    {
     "name": "stdout",
     "output_type": "stream",
     "text": [
      "Number of arms: 4\n",
      "Number of trials: 441\n"
     ]
    }
   ],
   "source": [
    "mab = MultiArmedBandit()\n",
    "print(f'Number of arms: {mab.n_arms}')\n",
    "print(f'Number of trials: {mab.n_trials}')"
   ]
  },
  {
   "cell_type": "code",
   "execution_count": 3,
   "metadata": {},
   "outputs": [
    {
     "name": "stdout",
     "output_type": "stream",
     "text": [
      "First pull (arm=0): Reward = 30.97851484853967\n",
      "Second pull (arm=1): Reward = 77.48117646795838\n",
      "Performing remaining pulls...\n"
     ]
    }
   ],
   "source": [
    "print(f'First pull (arm=0): Reward = {mab.pull(0)}')\n",
    "print(f'Second pull (arm=1): Reward = {mab.pull(1)}')\n",
    "print('Performing remaining pulls...')\n",
    "for _ in range(mab.n_trials-2):\n",
    "    mab.pull(random.randint(0, mab.n_arms - 1))"
   ]
  },
  {
   "cell_type": "code",
   "execution_count": 4,
   "metadata": {},
   "outputs": [
    {
     "name": "stdout",
     "output_type": "stream",
     "text": [
      "this bandit is already exhausted\n"
     ]
    }
   ],
   "source": [
    "# If all trials were used, bandit gets exhausted and StopIteration is raised\n",
    "try:\n",
    "    mab.pull(0)\n",
    "except StopIteration as ex:\n",
    "    print(ex)"
   ]
  },
  {
   "cell_type": "code",
   "execution_count": 5,
   "metadata": {},
   "outputs": [
    {
     "name": "stdout",
     "output_type": "stream",
     "text": [
      "Total points gathered = 30526.697947450288\n"
     ]
    }
   ],
   "source": [
    "print(f'Total points gathered = {mab.account}')"
   ]
  }
 ],
 "metadata": {
  "kernelspec": {
   "display_name": "Python 3.8 64-bit ('decidenet': conda)",
   "language": "python",
   "name": "decidenet"
  },
  "language_info": {
   "codemirror_mode": {
    "name": "ipython",
    "version": 3
   },
   "file_extension": ".py",
   "mimetype": "text/x-python",
   "name": "python",
   "nbconvert_exporter": "python",
   "pygments_lexer": "ipython3",
   "version": "3.8.1"
  }
 },
 "nbformat": 4,
 "nbformat_minor": 4
}
